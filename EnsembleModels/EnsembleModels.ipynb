{
  "cells": [
    {
      "cell_type": "markdown",
      "metadata": {
        "id": "O8gU7AYPXMmA"
      },
      "source": [
        "## About iPython Notebooks ##\n",
        "\n",
        "iPython Notebooks are interactive coding environments embedded in a webpage. You will be using iPython notebooks in this class. Make sure you fill in any place that says `# BEGIN CODE HERE #END CODE HERE`. After writing your code, you can run the cell by either pressing \"SHIFT\"+\"ENTER\" or by clicking on \"Run\" (denoted by a play symbol). Before you turn this problem in, make sure everything runs as expected. First, **restart the kernel** (in the menubar, select Kernel$\\rightarrow$Restart) and then **run all cells** (in the menubar, select Cell$\\rightarrow$Run All). \n",
        "\n",
        " **What you need to remember:**\n",
        "\n",
        "- Run your cells using SHIFT+ENTER (or \"Run cell\")\n",
        "- Write code in the designated areas using Python 3 only\n",
        "- Do not modify the code outside of the designated areas\n",
        "- In some cases you will also need to explain the results. There will also be designated areas for that. \n",
        "\n",
        "Fill in your **NAME** and **AEM** below:"
      ]
    },
    {
      "cell_type": "code",
      "execution_count": 2,
      "metadata": {
        "id": "lO-jJrtNXMmH"
      },
      "outputs": [],
      "source": [
        "NAME = \"Christina Koutsi\"\n",
        "AEM = \"9871\""
      ]
    },
    {
      "cell_type": "markdown",
      "metadata": {
        "id": "sh0EE7BJXMmJ"
      },
      "source": [
        "---"
      ]
    },
    {
      "cell_type": "markdown",
      "metadata": {
        "id": "v_VpnGyWXMmK"
      },
      "source": [
        "# Assignment 3 - Ensemble Methods #"
      ]
    },
    {
      "cell_type": "markdown",
      "metadata": {
        "id": "2dQ9XoGQXMmK"
      },
      "source": [
        "Welcome to your third assignment. This exercise will test your understanding on Ensemble Methods."
      ]
    },
    {
      "cell_type": "code",
      "execution_count": 3,
      "metadata": {
        "id": "JvHYIhS-XMmL"
      },
      "outputs": [],
      "source": [
        "# Always run this cell\n",
        "import numpy as np\n",
        "import pandas as pd\n",
        "\n",
        "from sklearn.ensemble import VotingClassifier\n",
        "from sklearn.model_selection import KFold\n",
        "from sklearn.linear_model import LogisticRegression\n",
        "from sklearn.svm import SVC\n",
        "from sklearn.tree import DecisionTreeClassifier\n",
        "from sklearn.model_selection import cross_validate\n",
        "from sklearn.ensemble import RandomForestClassifier, StackingClassifier, GradientBoostingClassifier, BaggingClassifier, AdaBoostClassifier\n",
        "from sklearn.neural_network import MLPClassifier\n",
        "from sklearn.model_selection import cross_val_score\n",
        "from sklearn.datasets import load_iris\n",
        "from sklearn.metrics import accuracy_score\n",
        "from sklearn.metrics import f1_score, make_scorer\n",
        "from sklearn.model_selection import train_test_split\n",
        "from sklearn.neighbors import KNeighborsClassifier\n",
        "from sklearn.linear_model import LogisticRegression\n",
        "# USE THE FOLLOWING RANDOM STATE FOR YOUR CODE\n",
        "RANDOM_STATE = 42"
      ]
    },
    {
      "cell_type": "markdown",
      "metadata": {
        "id": "joKwpih2XMmM"
      },
      "source": [
        "## Download the Dataset ##\n",
        "Download the dataset using the following cell or from this [link](https://github.com/sakrifor/public/tree/master/machine_learning_course/EnsembleDataset) and put the files in the same folder as the .ipynb file. \n",
        "In this assignment you are going to work with a dataset originated from the [ImageCLEFmed: The Medical Task 2016](https://www.imageclef.org/2016/medical) and the **Compound figure detection** subtask. The goal of this subtask is to identify whether a figure is a compound figure (one image consists of more than one figure) or not. The train dataset consits of 4197 examples/figures and each figure has 4096 features which were extracted using a deep neural network. The *CLASS* column represents the class of each example where 1 is a compoung figure and 0 is not. \n"
      ]
    },
    {
      "cell_type": "code",
      "execution_count": 4,
      "metadata": {
        "colab": {
          "base_uri": "https://localhost:8080/"
        },
        "id": "NJdwPr0bXMmM",
        "outputId": "1b2dbe60-2469-46b0-99ba-0b46649492b6"
      },
      "outputs": [
        {
          "output_type": "execute_result",
          "data": {
            "text/plain": [
              "('test_set_noclass.csv', <http.client.HTTPMessage at 0x7faa51bc0990>)"
            ]
          },
          "metadata": {},
          "execution_count": 4
        }
      ],
      "source": [
        "import urllib.request\n",
        "url_train = 'https://github.com/sakrifor/public/raw/master/machine_learning_course/EnsembleDataset/train_set.csv'\n",
        "filename_train = 'train_set.csv'\n",
        "urllib.request.urlretrieve(url_train, filename_train)\n",
        "url_test = 'https://github.com/sakrifor/public/raw/master/machine_learning_course/EnsembleDataset/test_set_noclass.csv'\n",
        "filename_test = 'test_set_noclass.csv'\n",
        "urllib.request.urlretrieve(url_test, filename_test)"
      ]
    },
    {
      "cell_type": "code",
      "execution_count": 5,
      "metadata": {
        "id": "t0OVtYr7XMmN"
      },
      "outputs": [],
      "source": [
        "# Run this cell to load the data\n",
        "train_set = pd.read_csv(\"train_set.csv\").sample(frac=1).reset_index(drop=True)\n",
        "train_set.head()\n",
        "X = train_set.drop(columns=['CLASS'])\n",
        "y = train_set['CLASS'].values"
      ]
    },
    {
      "cell_type": "markdown",
      "metadata": {
        "id": "ZxOGHSmqXMmO"
      },
      "source": [
        "ge f-measure weighted and balanced accuracy of your models. You ## 1.0 Testing different ensemble methods ##\n",
        "In this part of the assignment you are asked to create and test different ensemble methods using the train_set.csv dataset. You should use **10-fold cross validation** for your tests and report the average f-measure weighted and balanced accuracy of your models. You can use [cross_validate](https://scikit-learn.org/stable/modules/generated/sklearn.model_selection.cross_validate.html#sklearn.model_selection.cross_validate) and select both metrics to be measured during the evaluation. Otherwise, you can use [KFold](https://scikit-learn.org/stable/modules/generated/sklearn.model_selection.KFold.html#sklearn.model_selection.KFold).\n",
        "\n",
        "### !!! Use n_jobs=-1 where is posibble to use all the cores of a machine for running your tests ###"
      ]
    },
    {
      "cell_type": "markdown",
      "metadata": {
        "id": "Ww_u4OlrXMmO"
      },
      "source": [
        "### 1.1 Voting ###\n",
        "Create a voting classifier which uses three **simple** estimators/classifiers. Test both soft and hard voting and choose the best one. Consider as simple estimators the following:\n",
        "\n",
        "\n",
        "*   Decision Trees\n",
        "*   Linear Models\n",
        "*   Probabilistic Models (Naive Bayes)\n",
        "*   KNN Models  "
      ]
    },
    {
      "cell_type": "code",
      "execution_count": 6,
      "metadata": {
        "id": "RwvPacgkXMmP"
      },
      "outputs": [],
      "source": [
        "# BEGIN CODE HERE\n",
        "\n",
        "cls1 = \"DTC\" # Classifier #1\n",
        "cls2 = \"LR\" # Classifier #2\n",
        "cls3 = \"KNN\" # Classifier #3\n",
        "\n",
        "estimator = []\n",
        "estimator.append((cls1, DecisionTreeClassifier()))\n",
        "estimator.append((cls2, LogisticRegression(solver='lbfgs',\n",
        "                                     multi_class='multinomial',\n",
        "                                     max_iter=200)))\n",
        "estimator.append((cls3, KNeighborsClassifier(n_neighbors=5)))\n",
        "\n",
        "soft_vcls = VotingClassifier(estimators=estimator, voting='soft') # Voting Classifier\n",
        "hard_vcls = VotingClassifier(estimators=estimator, voting='hard') # Voting Classifier\n",
        "\n",
        "kfold = KFold(n_splits=10, random_state=RANDOM_STATE, shuffle=True)\n",
        "\n",
        "scoring = {'accuracy': make_scorer(accuracy_score),\n",
        "           'f1_score': make_scorer(f1_score)}\n",
        "\n",
        "scoresSoft = cross_validate(soft_vcls, X, y, cv=kfold, n_jobs=-1, scoring=scoring)\n",
        "\n",
        "s_avg_fmeasure = np.mean(scoresSoft['test_f1_score']) # The average f-measure\n",
        "s_avg_accuracy = np.mean(scoresSoft['test_accuracy']) # The average accuracy\n",
        "\n",
        "scoresHard = cross_validate(soft_vcls, X, y, cv=kfold, n_jobs=-1, scoring=scoring)\n",
        "\n",
        "h_avg_fmeasure = np.mean(scoresHard['test_f1_score']) # The average f-measure\n",
        "h_avg_accuracy = np.mean(scoresHard['test_accuracy']) # The average accuracy\n",
        "\n",
        "#END CODE HERE"
      ]
    },
    {
      "cell_type": "code",
      "execution_count": 7,
      "metadata": {
        "colab": {
          "base_uri": "https://localhost:8080/"
        },
        "id": "sQQvClrmXMmQ",
        "outputId": "f691e226-5656-480a-8b16-2c34df810fcf"
      },
      "outputs": [
        {
          "output_type": "stream",
          "name": "stdout",
          "text": [
            "Classifier:\n",
            "VotingClassifier(estimators=[('DTC', DecisionTreeClassifier()),\n",
            "                             ('LR',\n",
            "                              LogisticRegression(max_iter=200,\n",
            "                                                 multi_class='multinomial')),\n",
            "                             ('KNN', KNeighborsClassifier())],\n",
            "                 voting='soft')\n",
            "F1 Weighted-Score: 0.8533 & Balanced Accuracy: 0.826\n"
          ]
        }
      ],
      "source": [
        "print(\"Classifier:\")\n",
        "print(soft_vcls)\n",
        "print(\"F1 Weighted-Score: {} & Balanced Accuracy: {}\".format(round(s_avg_fmeasure,4), round(s_avg_accuracy,4)))"
      ]
    },
    {
      "cell_type": "markdown",
      "metadata": {
        "id": "k-iJK9pFaDka"
      },
      "source": [
        "You should achive above 82% (Soft Voting Classifier)"
      ]
    },
    {
      "cell_type": "code",
      "execution_count": 8,
      "metadata": {
        "colab": {
          "base_uri": "https://localhost:8080/"
        },
        "id": "XRNkVAvEYVbn",
        "outputId": "7c5d806e-d0d4-48db-b320-cabb5a2e76dc"
      },
      "outputs": [
        {
          "output_type": "stream",
          "name": "stdout",
          "text": [
            "Classifier:\n",
            "VotingClassifier(estimators=[('DTC', DecisionTreeClassifier()),\n",
            "                             ('LR',\n",
            "                              LogisticRegression(max_iter=200,\n",
            "                                                 multi_class='multinomial')),\n",
            "                             ('KNN', KNeighborsClassifier())])\n",
            "F1 Weighted-Score: 0.852 & Balanced Accuracy: 0.8248\n"
          ]
        }
      ],
      "source": [
        "print(\"Classifier:\")\n",
        "print(hard_vcls)\n",
        "print(\"F1 Weighted-Score: {} & Balanced Accuracy: {}\".format(round(h_avg_fmeasure,4), round(h_avg_accuracy,4)))"
      ]
    },
    {
      "cell_type": "markdown",
      "metadata": {
        "id": "V6M0CZO6aEHi"
      },
      "source": [
        "You should achieve above 80% in both! (Hard Voting Classifier)"
      ]
    },
    {
      "cell_type": "markdown",
      "metadata": {
        "id": "xVPuIxwFXMmR"
      },
      "source": [
        "### 1.2 Stacking ###\n",
        "Create a stacking classifier which uses two more complex estimators. Try different simple classifiers (like the ones mentioned before) for the combination of the initial estimators. Report your results in the following cell.\n",
        "\n",
        "Consider as complex estimators the following:\n",
        "\n",
        "*   Random Forest\n",
        "*   SVM\n",
        "*   Gradient Boosting\n",
        "*   MLP\n",
        "\n",
        "\n"
      ]
    },
    {
      "cell_type": "code",
      "execution_count": 9,
      "metadata": {
        "colab": {
          "base_uri": "https://localhost:8080/"
        },
        "id": "HX6T1qrFXMmS",
        "outputId": "11342172-6f6c-40e0-8066-87b2ac98f2a5"
      },
      "outputs": [
        {
          "output_type": "stream",
          "name": "stderr",
          "text": [
            "/usr/local/lib/python3.7/dist-packages/joblib/externals/loky/process_executor.py:705: UserWarning: A worker stopped while some jobs were given to the executor. This can be caused by a too short worker timeout or by a memory leak.\n",
            "  \"timeout or by a memory leak.\", UserWarning\n"
          ]
        }
      ],
      "source": [
        "# BEGIN CODE HERE\n",
        "\n",
        "cls1 = MLPClassifier(activation=\"relu\", alpha=0.1, hidden_layer_sizes=(10, 10, 10),\n",
        "                     learning_rate=\"constant\", max_iter=1000, random_state=RANDOM_STATE)\n",
        "\n",
        "cls2 = RandomForestClassifier(n_estimators=150, criterion=\"gini\", max_depth=12,\n",
        "                              max_features=\"auto\", min_samples_split=0.050, n_jobs=-1, \n",
        "                              random_state=RANDOM_STATE)\n",
        "\n",
        "cls3 = SVC(C=50, degree=1, gamma=\"auto\", kernel=\"rbf\", probability=False)\n",
        "\n",
        "classifiers = [('mlp', cls1),\n",
        "               ('rfc', cls2),\n",
        "               ('svc', cls3)]\n",
        "\n",
        "scoring = {'accuracy': make_scorer(accuracy_score),\n",
        "           'f1_score': make_scorer(f1_score)}\n",
        "\n",
        "kfold = KFold(n_splits=10, random_state=RANDOM_STATE, shuffle=True)\n",
        "\n",
        "scls = StackingClassifier(estimators=classifiers,\n",
        "                          final_estimator=LogisticRegression(),\n",
        "                          stack_method='auto',\n",
        "                          n_jobs=-1,\n",
        "                          passthrough=False)\n",
        "\n",
        "scores = cross_validate(scls, X, y, cv=kfold, n_jobs=-1, scoring=scoring)\n",
        "\n",
        "avg_fmeasure = np.mean(scores['test_f1_score'])  # The average f-measure\n",
        "avg_accuracy = np.mean(scores['test_accuracy'])  # The average accuracy\n",
        "\n",
        "#END CODE HERE"
      ]
    },
    {
      "cell_type": "code",
      "execution_count": 10,
      "metadata": {
        "colab": {
          "base_uri": "https://localhost:8080/"
        },
        "id": "-JLRzkQ1XMmT",
        "outputId": "ee8c469a-4728-4dae-976b-13452239a62a"
      },
      "outputs": [
        {
          "output_type": "stream",
          "name": "stdout",
          "text": [
            "Classifier:\n",
            "StackingClassifier(estimators=[('mlp',\n",
            "                                MLPClassifier(alpha=0.1,\n",
            "                                              hidden_layer_sizes=(10, 10, 10),\n",
            "                                              max_iter=1000, random_state=42)),\n",
            "                               ('rfc',\n",
            "                                RandomForestClassifier(max_depth=12,\n",
            "                                                       min_samples_split=0.05,\n",
            "                                                       n_estimators=150,\n",
            "                                                       n_jobs=-1,\n",
            "                                                       random_state=42)),\n",
            "                               ('svc', SVC(C=50, degree=1, gamma='auto'))],\n",
            "                   final_estimator=LogisticRegression(), n_jobs=-1)\n",
            "F1 Weighted Score: 0.8876 & Balanced Accuracy: 0.8663\n"
          ]
        }
      ],
      "source": [
        "print(\"Classifier:\")\n",
        "print(scls)\n",
        "print(\"F1 Weighted Score: {} & Balanced Accuracy: {}\".format(round(avg_fmeasure,4), round(avg_accuracy,4)))"
      ]
    },
    {
      "cell_type": "markdown",
      "metadata": {
        "id": "zcgOx-HPvBI-"
      },
      "source": [
        "You should achieve above 85% in both"
      ]
    },
    {
      "cell_type": "markdown",
      "metadata": {
        "id": "O-nqW51xXMmU"
      },
      "source": [
        "## 2.0 Randomization ##"
      ]
    },
    {
      "cell_type": "markdown",
      "metadata": {
        "id": "KPG8MdFLXMmV"
      },
      "source": [
        "**2.1** You are asked to create three ensembles of decision trees where each one uses a different method for producing homogeneous ensembles. Compare them with a simple decision tree classifier and report your results in the dictionaries (dict) below using as key the given name of your classifier and as value the f1_weighted/balanced_accuracy score. The dictionaries should contain four different elements.  "
      ]
    },
    {
      "cell_type": "code",
      "execution_count": 11,
      "metadata": {
        "id": "PmkaP-DjXMmV"
      },
      "outputs": [],
      "source": [
        "# BEGIN CODE HERE\n",
        "\n",
        "ens1 = RandomForestClassifier(n_estimators=100, n_jobs=-1, random_state=RANDOM_STATE)\n",
        "ens2 = BaggingClassifier(n_estimators=100, n_jobs=-1, random_state=RANDOM_STATE)\n",
        "ens3 = AdaBoostClassifier(n_estimators=100, random_state=RANDOM_STATE)\n",
        "tree = DecisionTreeClassifier(random_state=RANDOM_STATE)\n",
        "\n",
        "f_measures = dict()\n",
        "accuracies = dict()\n",
        "\n",
        "scoring = {'accuracy': make_scorer(accuracy_score),\n",
        "           'f1_score': make_scorer(f1_score)}\n",
        "\n",
        "kfold = KFold(n_splits=10, random_state=RANDOM_STATE, shuffle=True)\n",
        "\n",
        "scores = cross_validate(tree, X, y, cv=kfold, scoring=scoring, n_jobs=-1)\n",
        "\n",
        "f_measures[\"Decision tree\"] = scores['test_f1_score']\n",
        "accuracies[\"Decision tree\"] = scores['test_accuracy']\n",
        "\n",
        "scores = cross_validate(ens1, X, y, cv=kfold, scoring=scoring)\n",
        "\n",
        "f_measures[\"Random forest\"] = scores['test_f1_score']\n",
        "accuracies[\"Random forest\"] = scores['test_accuracy']\n",
        "\n",
        "scores = cross_validate(ens2, X, y, cv=kfold, scoring=scoring)\n",
        "\n",
        "f_measures[\"Bagging\"] = scores['test_f1_score']\n",
        "accuracies[\"Bagging\"] = scores['test_accuracy']\n",
        "\n",
        "scores = cross_validate(ens3, X, y, cv=kfold, scoring=scoring, n_jobs=-1)\n",
        "\n",
        "f_measures[\"Ada boost\"] = scores['test_f1_score']\n",
        "accuracies[\"Ada boost\"] = scores['test_accuracy']\n",
        "\n",
        "#END CODE HERE"
      ]
    },
    {
      "cell_type": "code",
      "execution_count": 12,
      "metadata": {
        "id": "IUqhDUuCXMmW",
        "outputId": "f3977c62-0882-4a94-ee26-f7aefc009163",
        "colab": {
          "base_uri": "https://localhost:8080/"
        }
      },
      "outputs": [
        {
          "output_type": "stream",
          "name": "stdout",
          "text": [
            "RandomForestClassifier(n_jobs=-1, random_state=42)\n",
            "BaggingClassifier(n_estimators=100, n_jobs=-1, random_state=42)\n",
            "AdaBoostClassifier(n_estimators=100, random_state=42)\n",
            "DecisionTreeClassifier(random_state=42)\n",
            "Classifier:Decision tree -  F1 Weighted:[0.7354 0.7602 0.7553 0.7578 0.7658 0.7313 0.7537 0.7531 0.7447 0.7638]\n",
            "Classifier:Random forest -  F1 Weighted:[0.839  0.8619 0.8423 0.855  0.866  0.8312 0.861  0.8369 0.8297 0.8762]\n",
            "Classifier:Bagging -  F1 Weighted:[0.8404 0.8502 0.856  0.8464 0.8452 0.8321 0.8543 0.8409 0.8176 0.8771]\n",
            "Classifier:Ada boost -  F1 Weighted:[0.7983 0.8251 0.8353 0.8445 0.8333 0.8217 0.8421 0.8228 0.8302 0.8534]\n",
            "Classifier:Decision tree -  BalancedAccuracy:[0.6881 0.7071 0.7238 0.7048 0.7262 0.6833 0.7208 0.7184 0.7136 0.7136]\n",
            "Classifier:Random forest -  BalancedAccuracy:[0.8071 0.8214 0.8048 0.8119 0.8357 0.7833 0.8282 0.7971 0.7971 0.8401]\n",
            "Classifier:Bagging -  BalancedAccuracy:[0.8119 0.8095 0.8262 0.8048 0.8143 0.7905 0.8234 0.8067 0.7828 0.8449]\n",
            "Classifier:Ada boost -  BalancedAccuracy:[0.769  0.7881 0.8048 0.8071 0.8048 0.781  0.8138 0.7924 0.8067 0.8138]\n"
          ]
        }
      ],
      "source": [
        "print(ens1)\n",
        "print(ens2)\n",
        "print(ens3)\n",
        "print(tree)\n",
        "for name,score in f_measures.items():\n",
        "    print(\"Classifier:{} -  F1 Weighted:{}\".format(name,np.round(score,4)))\n",
        "for name,score in accuracies.items():\n",
        "    print(\"Classifier:{} -  BalancedAccuracy:{}\".format(name,np.round(score,4)))"
      ]
    },
    {
      "cell_type": "markdown",
      "metadata": {
        "id": "UqdXTE_2XMmX"
      },
      "source": [
        "**2.2** Describe your classifiers and your results."
      ]
    },
    {
      "cell_type": "markdown",
      "metadata": {
        "id": "rU9POFftXMmX"
      },
      "source": [
        "In this exercise I'm using ensembles of decision trees and each uses one of the following methods for producing homogeneous ensembles: the Random Forest Classifier, the Bagging Classifier and the AdaBoost Classifier. I'm also using a simple Decision Tree Classifier.\n",
        "\n",
        "As shown above, every ensemble is better than a simple Decision Tree Classifier in achieving better f1-scores and balanced-accuracy."
      ]
    },
    {
      "cell_type": "markdown",
      "metadata": {
        "id": "lkJeuV1FXMmX"
      },
      "source": [
        "**2.3** Increasing the number of estimators in a bagging classifier can drastically increase the training time of a classifier. Is there any solution to this problem? Can the same solution be applied to boosting classifiers?"
      ]
    },
    {
      "cell_type": "markdown",
      "metadata": {
        "id": "ApNEPcWEXMmY"
      },
      "source": [
        "One solution is to use parallelisation. Specifically, the Bagging Classifier is can easily be parallelised, as it uses the same training set as the starting data.\n"
      ]
    },
    {
      "cell_type": "markdown",
      "metadata": {
        "id": "XgvsCbUGXMmY"
      },
      "source": [
        "## 3.0 Creating the best classifier ##"
      ]
    },
    {
      "cell_type": "markdown",
      "metadata": {
        "id": "Q6daX2mRXMmZ"
      },
      "source": [
        "**3.1** In this part of the assignment you are asked to train the best possible ensemble! Describe the process you followed to achieve this result. How did you choose your classifier and your parameters and why. Report the f-measure (weighted) & balanced accuracy (10-fold cross validation) of your final classifier and results of classifiers you tried in the cell following the code. Can you achieve a balanced accuracy over 83-84%?"
      ]
    },
    {
      "cell_type": "code",
      "execution_count": 13,
      "metadata": {
        "id": "00xAQ0HfXMmZ",
        "outputId": "93bae284-5ac2-498d-bed8-4941e38c41f4",
        "colab": {
          "base_uri": "https://localhost:8080/"
        }
      },
      "outputs": [
        {
          "metadata": {
            "tags": null
          },
          "name": "stderr",
          "output_type": "stream",
          "text": [
            "/usr/local/lib/python3.7/dist-packages/joblib/externals/loky/process_executor.py:705: UserWarning: A worker stopped while some jobs were given to the executor. This can be caused by a too short worker timeout or by a memory leak.\n",
            "  \"timeout or by a memory leak.\", UserWarning\n"
          ]
        }
      ],
      "source": [
        "# BEGIN CODE HERE\n",
        "cls1 = MLPClassifier(activation=\"relu\", alpha=0.1, hidden_layer_sizes=(10, 10, 10),\n",
        "                     learning_rate=\"constant\", max_iter=1000, random_state=RANDOM_STATE)\n",
        "\n",
        "cls2 = RandomForestClassifier(n_estimators=150, criterion=\"gini\", max_depth=10,\n",
        "                              max_features=\"auto\", min_samples_split=0.005, n_jobs=-1, \n",
        "                              random_state=RANDOM_STATE)\n",
        "\n",
        "cls3 = SVC(C=50, degree=1, gamma=\"auto\", kernel=\"rbf\", probability=False)\n",
        "\n",
        "scoring = {'accuracy': make_scorer(accuracy_score),\n",
        "           'f1_score': make_scorer(f1_score)}\n",
        "\n",
        "kfold = KFold(n_splits=10, random_state=RANDOM_STATE, shuffle=True)\n",
        "\n",
        "classifiers = [('mlp', cls1),\n",
        "               ('rfc', cls2),\n",
        "               ('svc', cls3)]\n",
        "               \n",
        "best_cls = StackingClassifier(estimators=classifiers,\n",
        "                          final_estimator=LogisticRegression(),\n",
        "                          stack_method='auto',\n",
        "                          n_jobs=-1,\n",
        "                          passthrough=False)\n",
        "\n",
        "results = cross_validate(scls, X, y, cv=kfold, n_jobs=-1, scoring=scoring)\n",
        "\n",
        "best_fmeasure = results[\"test_f1_score\"]\n",
        "best_accuracy = results[\"test_accuracy\"]\n",
        "#END CODE HERE"
      ]
    },
    {
      "cell_type": "code",
      "execution_count": 14,
      "metadata": {
        "colab": {
          "base_uri": "https://localhost:8080/"
        },
        "id": "FbLB09agXMma",
        "outputId": "19e2cbc4-f835-42ba-d9b9-a3182961330c"
      },
      "outputs": [
        {
          "output_type": "stream",
          "name": "stdout",
          "text": [
            "Classifier:\n",
            "F1 Weighted-Score:[0.88381743 0.86836935 0.88531187 0.89534884 0.91170431 0.87843137\n",
            " 0.90725806 0.87169043 0.862423   0.91119691] & Balanced Accuracy:[0.86666667 0.84047619 0.86428571 0.87142857 0.89761905 0.85238095\n",
            " 0.8902148  0.849642   0.84009547 0.8902148 ]\n"
          ]
        }
      ],
      "source": [
        "print(\"Classifier:\")\n",
        "#print(best_cls)\n",
        "print(\"F1 Weighted-Score:{} & Balanced Accuracy:{}\".format(best_fmeasure, best_accuracy))"
      ]
    },
    {
      "cell_type": "markdown",
      "metadata": {
        "id": "vnos1uqzXMma"
      },
      "source": [
        "**3.2** Describe the process you followed to achieve this result. How did you choose your classifier and your parameters and why. Report the f-measure & accuracy (10-fold cross validation) of your final classifier and results of classifiers you tried in the cell following the code."
      ]
    },
    {
      "cell_type": "markdown",
      "metadata": {
        "id": "o5dAfbTfXMmb"
      },
      "source": [
        "Classifier:\n",
        "F1 Weighted-Score:[0.87025948 0.8984375  0.892      0.91119691 0.89513109 0.89156627\n",
        " 0.85224839 0.8902439  0.85835095 0.88047809] & Balanced Accuracy:[0.8452381  0.87619048 0.87142857 0.89047619 0.86666667 0.87142857\n",
        " 0.8353222  0.87112172 0.84009547 0.85680191]"
      ]
    },
    {
      "cell_type": "markdown",
      "metadata": {
        "id": "fQEFCmbcXMmb"
      },
      "source": [
        "**3.3** Create a classifier that is going to be used in production - in a live system. Use the *test_set_noclass.csv* to make predictions. Store the predictions in a list.  "
      ]
    },
    {
      "cell_type": "code",
      "execution_count": 15,
      "metadata": {
        "id": "XQPgm_ubXMmc"
      },
      "outputs": [],
      "source": [
        "# BEGIN CODE HERE\n",
        "cls = RandomForestClassifier(n_estimators=150, n_jobs=-1, random_state=RANDOM_STATE)\n",
        "cls.fit(X,y)\n",
        "#END CODE HERE\n",
        "test_set = pd.read_csv(\"test_set_noclass.csv\")\n",
        "predictions = cls.predict(test_set)"
      ]
    },
    {
      "cell_type": "markdown",
      "metadata": {
        "id": "lnAp-d2DXMmf"
      },
      "source": [
        "LEAVE HERE ANY COMMENTS ABOUT YOUR CLASSIFIER"
      ]
    },
    {
      "cell_type": "markdown",
      "metadata": {
        "id": "Neagvu0TXMmg"
      },
      "source": [
        "#### This following cell will not be executed. The test_set.csv with the classes will be made available after the deadline and this cell is for testing purposes!!! Do not modify it! ###"
      ]
    },
    {
      "cell_type": "code",
      "execution_count": null,
      "metadata": {
        "id": "k7K7iI7BXMmg"
      },
      "outputs": [],
      "source": [
        "if False:\n",
        "  from sklearn.metrics import f1_score, balanced_accuracy_score\n",
        "  final_test_set = pd.read_csv('test_set.csv')\n",
        "  ground_truth = final_test_set['CLASS']\n",
        "  print(\"Balanced Accuracy: {}\".format(balanced_accuracy_score(predictions, ground_truth)))\n",
        "  print(\"F1 Weighted-Score: {}\".format(f1_score(predictions, ground_truth, average='weighted')))"
      ]
    },
    {
      "cell_type": "markdown",
      "metadata": {
        "id": "YJH-9KdOzW7z"
      },
      "source": [
        "Both should aim above 85%!"
      ]
    }
  ],
  "metadata": {
    "accelerator": "GPU",
    "colab": {
      "collapsed_sections": [],
      "name": "9871_Christina_Koutsi_cvkoutsi@ece.auth.gr_EnsembleModels.ipynb ",
      "provenance": []
    },
    "interpreter": {
      "hash": "0592caf592606cfb385ef8c05b846adefb8fbddcb68e296653680baf3f6cad85"
    },
    "kernelspec": {
      "display_name": "Python 3.8.10 ('venv': venv)",
      "language": "python",
      "name": "python3"
    },
    "language_info": {
      "codemirror_mode": {
        "name": "ipython",
        "version": 3
      },
      "file_extension": ".py",
      "mimetype": "text/x-python",
      "name": "python",
      "nbconvert_exporter": "python",
      "pygments_lexer": "ipython3",
      "version": "3.8.10"
    }
  },
  "nbformat": 4,
  "nbformat_minor": 0
}